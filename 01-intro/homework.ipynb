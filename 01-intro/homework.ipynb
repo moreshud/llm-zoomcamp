{
 "cells": [
  {
   "cell_type": "code",
   "execution_count": 1,
   "id": "0707191a-c932-4487-a519-6dd72600d3b4",
   "metadata": {},
   "outputs": [],
   "source": [
    "import os\n",
    "from openai import OpenAI"
   ]
  },
  {
   "cell_type": "code",
   "execution_count": null,
   "id": "6259599e-8e9a-454b-90f7-8011c24eeb2c",
   "metadata": {},
   "outputs": [],
   "source": [
    "client = OpenAI(api_key=os.environ[\"OPENAI_API_KEY\"])"
   ]
  },
  {
   "cell_type": "code",
   "execution_count": 3,
   "id": "4776221d-3704-460f-ab7e-9153692c1ae1",
   "metadata": {},
   "outputs": [
    {
     "data": {
      "text/plain": [
       "<openai.OpenAI at 0x7b2209b348b0>"
      ]
     },
     "execution_count": 3,
     "metadata": {},
     "output_type": "execute_result"
    }
   ],
   "source": [
    "client"
   ]
  },
  {
   "cell_type": "code",
   "execution_count": 4,
   "id": "a3b17642-2894-4e97-8cfc-d931b7966f65",
   "metadata": {},
   "outputs": [],
   "source": [
    "response = client.chat.completions.create(\n",
    "    model=\"gpt-4o\",\n",
    "    messages=[{\n",
    "        \"role\":\"user\",\n",
    "        \"content\": \"Is it too late to join the course?\"\n",
    "    }]\n",
    ")"
   ]
  },
  {
   "cell_type": "code",
   "execution_count": 5,
   "id": "de92fa51-067b-4bee-a602-c6bf6fd68278",
   "metadata": {},
   "outputs": [
    {
     "data": {
      "text/plain": [
       "\"Whether it's too late to join a course depends on several factors, including the course policies, the point in the semester, and the specific course requirements. Here are a few steps you can take to find out:\\n\\n1. **Check the Course Enrollment Deadline:** Look at the academic calendar on the institution's website or in the course catalog to see if the enrollment period is still open.\\n\\n2. **Contact the Instructor or Course Coordinator:** Reach out to the instructor or the course coordinator to ask if it's still possible to join the course. Sometimes instructors may allow late entries, especially if you can catch up on missed material.\\n\\n3. **Consult the Academic Advisor:** Your academic advisor can provide guidance on whether you can still enroll in the course and if there are any prerequisites or special permissions needed.\\n\\n4. **Look for Online or Alternative Courses:** If the course you are interested in is closed, consider looking for similar courses that might be available online or during a different semester.\\n\\n5. **Special Permissions:** Some institutions offer the option to obtain special permission to enroll late, which might involve filling out additional forms or getting approval from department heads.\\n\\n6. **Catch Up on Missed Work:** If you are allowed to join the course late, make sure to get all the materials and information you need to catch up on any missed lectures, assignments, or exams.\\n\\nBy taking these steps, you’ll have a better understanding of your options for joining the course.\""
      ]
     },
     "execution_count": 5,
     "metadata": {},
     "output_type": "execute_result"
    }
   ],
   "source": [
    "response.choices[0].message.content"
   ]
  }
 ],
 "metadata": {
  "kernelspec": {
   "display_name": "Python 3 (ipykernel)",
   "language": "python",
   "name": "python3"
  },
  "language_info": {
   "codemirror_mode": {
    "name": "ipython",
    "version": 3
   },
   "file_extension": ".py",
   "mimetype": "text/x-python",
   "name": "python",
   "nbconvert_exporter": "python",
   "pygments_lexer": "ipython3",
   "version": "3.12.2"
  }
 },
 "nbformat": 4,
 "nbformat_minor": 5
}
