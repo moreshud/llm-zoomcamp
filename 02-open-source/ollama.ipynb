{
 "cells": [
  {
   "cell_type": "code",
   "execution_count": 8,
   "id": "506fab2a-a50c-42bd-a106-c83a9d2828ea",
   "metadata": {},
   "outputs": [
    {
     "name": "stdout",
     "output_type": "stream",
     "text": [
      "minsearch.py already exists.\n"
     ]
    }
   ],
   "source": [
    "import os\n",
    "\n",
    "# Function to check if minsearch.py exists and download it if not\n",
    "def check_and_download_minsearch():\n",
    "    file_name = \"minsearch.py\"\n",
    "    if os.path.exists(file_name):\n",
    "        print(f\"{file_name} already exists.\")\n",
    "    else:\n",
    "        try:\n",
    "            # Download minsearch.py using wget\n",
    "            print(f\"Downloading {file_name}...\")\n",
    "            !wget https://raw.githubusercontent.com/alexeygrigorev/minsearch/main/minsearch.py\n",
    "            print(\"\\nDownload complete.\")\n",
    "        except Exception as e:\n",
    "            print(f\"Failed to download {file_name}: {e}\")\n",
    "\n",
    "# Execute the function\n",
    "check_and_download_minsearch()"
   ]
  },
  {
   "cell_type": "code",
   "execution_count": 9,
   "id": "3ac947de-effd-4b61-8792-a6d7a133f347",
   "metadata": {},
   "outputs": [
    {
     "data": {
      "text/plain": [
       "<minsearch.Index at 0x7e7481fb0470>"
      ]
     },
     "execution_count": 9,
     "metadata": {},
     "output_type": "execute_result"
    }
   ],
   "source": [
    "import requests \n",
    "import minsearch\n",
    "\n",
    "docs_url = 'https://github.com/DataTalksClub/llm-zoomcamp/blob/main/01-intro/documents.json?raw=1'\n",
    "docs_response = requests.get(docs_url)\n",
    "documents_raw = docs_response.json()\n",
    "\n",
    "documents = []\n",
    "\n",
    "for course in documents_raw:\n",
    "    course_name = course['course']\n",
    "\n",
    "    for doc in course['documents']:\n",
    "        doc['course'] = course_name\n",
    "        documents.append(doc)\n",
    "\n",
    "index = minsearch.Index(\n",
    "    text_fields=[\"question\", \"text\", \"section\"],\n",
    "    keyword_fields=[\"course\"]\n",
    ")\n",
    "\n",
    "index.fit(documents)"
   ]
  },
  {
   "cell_type": "code",
   "execution_count": 10,
   "id": "8f087272-b44d-4738-9ea2-175ec63a058b",
   "metadata": {},
   "outputs": [],
   "source": [
    "def search(query):\n",
    "    boost = {'question': 3.0, 'section': 0.5}\n",
    "\n",
    "    results = index.search(\n",
    "        query=query,\n",
    "        filter_dict={'course': 'data-engineering-zoomcamp'},\n",
    "        boost_dict=boost,\n",
    "        num_results=5\n",
    "    )\n",
    "\n",
    "    return results"
   ]
  },
  {
   "cell_type": "code",
   "execution_count": 11,
   "id": "742ab881-499a-4675-83c4-2013ea1377b9",
   "metadata": {},
   "outputs": [],
   "source": [
    "def build_prompt(query, search_results):\n",
    "    prompt_template = \"\"\"\n",
    "You're a course teaching assistant. Answer the QUESTION based on the CONTEXT from the FAQ database.\n",
    "Use only the facts from the CONTEXT when answering the QUESTION.\n",
    "\n",
    "QUESTION: {question}\n",
    "\n",
    "CONTEXT: \n",
    "{context}\n",
    "\"\"\".strip()\n",
    "\n",
    "    context = \"\"\n",
    "    \n",
    "    for doc in search_results:\n",
    "        context = context + f\"section: {doc['section']}\\nquestion: {doc['question']}\\nanswer: {doc['text']}\\n\\n\"\n",
    "    \n",
    "    prompt = prompt_template.format(question=query, context=context).strip()\n",
    "    return prompt\n",
    "\n",
    "def llm(prompt):\n",
    "    response = client.chat.completions.create(\n",
    "        model='phi3',\n",
    "        messages=[{\"role\": \"user\", \"content\": prompt}]\n",
    "    )\n",
    "    \n",
    "    return response.choices[0].message.content"
   ]
  },
  {
   "cell_type": "code",
   "execution_count": 12,
   "id": "fe8bff3e-b672-42be-866b-f2d9bb217106",
   "metadata": {},
   "outputs": [],
   "source": [
    "def rag(query):\n",
    "    search_results = search(query)\n",
    "    prompt = build_prompt(query, search_results)\n",
    "    answer = llm(prompt)\n",
    "    return answer"
   ]
  },
  {
   "cell_type": "code",
   "execution_count": 13,
   "id": "091a77e6-936b-448e-a04b-bad1001f5bb0",
   "metadata": {},
   "outputs": [],
   "source": [
    "from openai import OpenAI\n",
    "\n",
    "client = OpenAI(\n",
    "    base_url='http://localhost:11434/v1/',\n",
    "    api_key='ollama',\n",
    ")"
   ]
  },
  {
   "cell_type": "code",
   "execution_count": 14,
   "id": "9ee527a3-3331-4f4e-b6c8-f659ffc113f5",
   "metadata": {},
   "outputs": [
    {
     "data": {
      "text/plain": [
       "' This message serves as an automated or placeholder text to indicate where in your system the capability to generate human-like responses might be tested. In most applications, such texts are used by developers and quality assurance teams during testing phases before actual user content goes live for several reasons:\\n\\n1. **Validation of AI Capabilities** - To ensure that any natural language processing (NLP) or artificial intelligence model can understand contexts like this message to decide when it should generate responses without real data input. It\\'s a way to validate the system in cases where actual user interaction cannot happen, for legal or ethical reasons.\\n\\n2. end-to-end testing - AI systems often need rigorous and comprehensive tests that simulate as many scenarios (like this message) throughout their entire workflow from start until finish without real data input involved to validate the system\\'s behavior in every possible scenario which is beneficial for finding bugs or unexpected responses before they affect live user interaction.\\n\\n3. **Data Privacy** - Sometimes, due to privacy concerns and compliance with regulations like GDPR (General Data Protection Regulation), personally identifiable information cannot be used during testing phases because it could potentially leave traces in backups that might lead to data breaches or leaks if the test were accidentally executed live.\\n\\n4. **Security Testing** - Simulating inputs helps ensure systems are not prone to security issues such as injection attacks, which rely on processing unexpected input types (like actual user messages). By testing with generic placeholders like this message and analyzing system responses for vulnerabilities can prevent potential exploits in live environments where real data is processed.\\n\\n5. **Documentation** - This practice helps document that the test infrastructure responds correctly to known-bad or simple scenarios, serving as a reference point when troubleshooting issues with input handling after deployment and ensuring responses are aligned with system expectations before they encounter genuine user requests.\\n\\nIn summary, using \"this is a test\" in your workflow helps maintain the integrity of AI systems by validating their behavior under known-bad scenarios or testing environments without compromising real data security, privacy compliance and ensuring that end-to-end functionalities are thoroughly vetted before they interact with actual users.'"
      ]
     },
     "execution_count": 14,
     "metadata": {},
     "output_type": "execute_result"
    }
   ],
   "source": [
    "llm('write that this is a test')"
   ]
  },
  {
   "cell_type": "code",
   "execution_count": 15,
   "id": "21aa255e-c971-44ca-9826-a721df3ad063",
   "metadata": {},
   "outputs": [
    {
     "name": "stdout",
     "output_type": "stream",
     "text": [
      " This message serves as an automated or placeholder text to indicate where in your system the capability to generate human-like responses might be tested. In most applications, such texts are used by developers and quality assurance teams during testing phases before actual user content goes live for several reasons:\n",
      "\n",
      "1. **Validation of AI Capabilities** - To ensure that any natural language processing (NLP) or artificial intelligence model can understand contexts like this message to decide when it should generate responses without real data input. It's a way to validate the system in cases where actual user interaction cannot happen, for legal or ethical reasons.\n",
      "\n",
      "2. end-to-end testing - AI systems often need rigorous and comprehensive tests that simulate as many scenarios (like this message) throughout their entire workflow from start until finish without real data input involved to validate the system's behavior in every possible scenario which is beneficial for finding bugs or unexpected responses before they affect live user interaction.\n",
      "\n",
      "3. **Data Privacy** - Sometimes, due to privacy concerns and compliance with regulations like GDPR (General Data Protection Regulation), personally identifiable information cannot be used during testing phases because it could potentially leave traces in backups that might lead to data breaches or leaks if the test were accidentally executed live.\n",
      "\n",
      "4. **Security Testing** - Simulating inputs helps ensure systems are not prone to security issues such as injection attacks, which rely on processing unexpected input types (like actual user messages). By testing with generic placeholders like this message and analyzing system responses for vulnerabilities can prevent potential exploits in live environments where real data is processed.\n",
      "\n",
      "5. **Documentation** - This practice helps document that the test infrastructure responds correctly to known-bad or simple scenarios, serving as a reference point when troubleshooting issues with input handling after deployment and ensuring responses are aligned with system expectations before they encounter genuine user requests.\n",
      "\n",
      "In summary, using \"this is a test\" in your workflow helps maintain the integrity of AI systems by validating their behavior under known-bad scenarios or testing environments without compromising real data security, privacy compliance and ensuring that end-to-end functionalities are thoroughly vetted before they interact with actual users.\n"
     ]
    }
   ],
   "source": [
    "print(_)"
   ]
  },
  {
   "cell_type": "code",
   "execution_count": 16,
   "id": "9669d67f-31a1-4fb1-ac5e-f792a6a20437",
   "metadata": {},
   "outputs": [
    {
     "data": {
      "text/plain": [
       "\" To create a Responsibility Accounting and Governance (RAG) course, the curriculum should encompass theoretical knowledge as well as practical skills to enable students to understand financial control systems. Below is an outline for such a course:\\n\\n### Course Title: Building RAG - A Pathway to Financial Control & Responsibility Accounting Excellence\\n\\n#### Module 1: Introduction to Responsibility Accounting (3 weeks)\\n- Understanding the basics of accounting and financial reporting.\\n- Importance of responsibility accounting in management decision-making processes.\\n- Case studies on traditional vs. RAG systems within businesses across various industries.\\n\\n#### Module 2: The Principles Behind Responsibility Accounting (3 weeks)\\n- Detailed study of the principles that govern responsibility accounting, such as decentralization and performance evaluation.\\n- Understanding different types of cost centers, profit centers, revenue centers, etc., through lectures and class discussions.\\n\\n#### Module 3: The RAG System (4 weeks)\\n- In-depth look at the components that make up a Responsibility Accounting system – including job order cost accounting and budgetary control systems.\\n- Case studies on companies successfully implementing or lack thereof, their responsibility accounting structure in various industries like manufacturing to service sectors - hospitality for example; transportation etc. \\n\\n#### Module 4: Benchmarks & Budget (5 weeks)\\n- Understanding how benchmark data is used and developed within a RAG system – incorporating techniques of variance analysis, performance measures and standards setting in this module through lectures, seminars and discussions with guest speakers.\\n- Designing flexible budget plans tailored for different levels/departments: manufacturing cost centers (e.g., raw materials procurement), service delivery systems etc.; understanding how these budgets help improve efficiency within a RAG system in the long run, through interactive class projects and case studies based on real-world examples of companies that have benefitted from implementing flexible budget plans such as IBM or Walt Disney Company;\\n  - Group assignment to design your own departmentalized flexi-budget for hypothetical organization.  \\n\\n#### Module 5: The Governance Component in RAG (3 weeks)\\n- Study on the importance of governance within a Responsibility Accounting system and its role in accountability, compliance with laws & regulations etc; understanding fiduciary responsibilities and corporate governance policies. Discussions via group presentations based on research from well known examples like General Motors or AirBnB's recent privacy scandal/legal issues around user data breaches for instance,\\n- The role of internal controls in maintaining effective financial control within a RAG system - understanding the nature and significance of these mechanisms. Discussions via case studies based on real business scenarios like Uber or Patagonia's environmental stewardship as an example here; \\n\\n#### Module 6: Implementing & Challenges in Building Responsibility Accounting (4 weeks)\\n- Study the barriers and challenges organizations might face during implementation of RAG system, how to mitigate them – through lectures based on real case studies. For instance; examining McDonald's approach towards service delivery optimization or Starbucks’ drive for product quality control etc.; \\n- Developing a project proposal detailing the steps an organization (either existing businesses like Apple/Samsung, startups like Airbnb & Uber) would take to implement RAG system considering their specific industry – through group projects. Peer reviews and instructor feedback on these proposals;  \\n- Discussions about strategies for successful implementation of responsibility accounting systems with guest speakers from businesses who have successfully implemented such a system like Caterpillar Inc or Nike, etc.; \\n- Capstone project: Develop an operational plan using RAG principles to enhance financial control and governability in any small/medium enterprise. Presentations on how the proposed changes would increase accountability within this organization's context – based on real industry data; feedback from instructors & peers, discussion with guest speakers for potential implementation hurdles etc.; \\n  \\n#### Module 7: Course Wrap-up and Examinations (2 weeks)\\n- Review of key concepts learned throughout the course through written assessments. Peer review exercises to enhance learning retention; discussions based on real business scenarios for contextual understanding - examinations in both formative & summative aspects – include: multiple choice, essays and case study analysis/presentation components as well a final comprehensive group project where learners will have applied the concepts learned throughout this course to an organization of their choosing using RAG principles; \\n- Final guest lecture from CFO or Chief Accounting Officer of Samsung Electronics about responsibility accounting & governance in tech industry for practical understanding. Discussion with students on real challenges faced by multin0national companies when implementing new financial control systems based around this model, potential pitfalls and best practices learned so far etc.;\\n- Course reflections through a final feedback survey - course reviewers (peer instructors), guest speakers & classmates to provide constructive critique on areas of strength/weakness for both learners as well as the program itself in order to improve future iterations. \\n\\nThe above curriculum provides an extensive learning experience and practical training related to building responsibility accounting systems, their benefits, challenges, importance within various industry settings along with governance measures needed for successful implementation of such a system - all aimed at providing students the necessary knowledge & skills required in this field.\""
      ]
     },
     "execution_count": 16,
     "metadata": {},
     "output_type": "execute_result"
    }
   ],
   "source": [
    "llm('Building RAG course')"
   ]
  },
  {
   "cell_type": "markdown",
   "id": "c39dcf77-20ee-411b-a349-441a47969dc7",
   "metadata": {},
   "source": [
    "Now working!!!"
   ]
  },
  {
   "cell_type": "code",
   "execution_count": null,
   "id": "594d65d0-db7b-4535-8d11-88c323eae8f4",
   "metadata": {},
   "outputs": [],
   "source": []
  }
 ],
 "metadata": {
  "kernelspec": {
   "display_name": "Python 3 (ipykernel)",
   "language": "python",
   "name": "python3"
  },
  "language_info": {
   "codemirror_mode": {
    "name": "ipython",
    "version": 3
   },
   "file_extension": ".py",
   "mimetype": "text/x-python",
   "name": "python",
   "nbconvert_exporter": "python",
   "pygments_lexer": "ipython3",
   "version": "3.12.3"
  }
 },
 "nbformat": 4,
 "nbformat_minor": 5
}
