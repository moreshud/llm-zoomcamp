{
 "cells": [
  {
   "cell_type": "code",
   "execution_count": 2,
   "id": "0707191a-c932-4487-a519-6dd72600d3b4",
   "metadata": {},
   "outputs": [],
   "source": [
    "import os\n",
    "from openai import OpenAI"
   ]
  },
  {
   "cell_type": "code",
   "execution_count": 10,
   "id": "6259599e-8e9a-454b-90f7-8011c24eeb2c",
   "metadata": {},
   "outputs": [],
   "source": [
    "client = OpenAI(api_key=os.environ['OPENAI_API_KEY'])"
   ]
  },
  {
   "cell_type": "code",
   "execution_count": 11,
   "id": "4776221d-3704-460f-ab7e-9153692c1ae1",
   "metadata": {},
   "outputs": [
    {
     "data": {
      "text/plain": [
       "<openai.OpenAI at 0x7b367fe6b460>"
      ]
     },
     "execution_count": 11,
     "metadata": {},
     "output_type": "execute_result"
    }
   ],
   "source": [
    "client"
   ]
  },
  {
   "cell_type": "code",
   "execution_count": 14,
   "id": "a3b17642-2894-4e97-8cfc-d931b7966f65",
   "metadata": {},
   "outputs": [],
   "source": [
    "response = client.chat.completions.create(\n",
    "    model=\"gpt-4o\",\n",
    "    messages=[{\n",
    "        \"role\":\"user\",\n",
    "        \"content\": \"Is it too late to join the course?\"\n",
    "    }]\n",
    ")"
   ]
  },
  {
   "cell_type": "code",
   "execution_count": 15,
   "id": "de92fa51-067b-4bee-a602-c6bf6fd68278",
   "metadata": {},
   "outputs": [
    {
     "data": {
      "text/plain": [
       "\"It's difficult for me to say without more context. The specifics of whether it's too late to join a course can depend on several factors including:\\n\\n1. **Enrollment Deadlines:** Many courses have strict enrollment deadlines, particularly at universities and formal institutions.\\n2. **Course Progress:** If the course has already started, consider how far along it is. Joining a course that's well underway might make it challenging to catch up.\\n3. **Instructor's Policy:** Check if the instructor or institution allows late enrollment. Some may be flexible depending on the circumstances.\\n4. **Course Type:** Online and self-paced courses often allow you to join at any time, while live or cohort-based courses might have more rigid schedules.\\n5. **Prerequisites:** Ensure you meet any prerequisites or have the foundational knowledge to step into the course at this stage.\\n\\nI recommend contacting the course provider or instructor directly for the most accurate information. They can provide details on the possibility of late enrollment and any steps you might need to take.\""
      ]
     },
     "execution_count": 15,
     "metadata": {},
     "output_type": "execute_result"
    }
   ],
   "source": [
    "response.choices[0].message.content"
   ]
  },
  {
   "cell_type": "code",
   "execution_count": null,
   "id": "7b96055e-f237-4da0-9cbf-4bc4476e6f70",
   "metadata": {},
   "outputs": [],
   "source": []
  }
 ],
 "metadata": {
  "kernelspec": {
   "display_name": "Python 3 (ipykernel)",
   "language": "python",
   "name": "python3"
  },
  "language_info": {
   "codemirror_mode": {
    "name": "ipython",
    "version": 3
   },
   "file_extension": ".py",
   "mimetype": "text/x-python",
   "name": "python",
   "nbconvert_exporter": "python",
   "pygments_lexer": "ipython3",
   "version": "3.10.13"
  }
 },
 "nbformat": 4,
 "nbformat_minor": 5
}
